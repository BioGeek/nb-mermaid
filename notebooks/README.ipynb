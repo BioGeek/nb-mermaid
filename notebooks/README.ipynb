{
 "cells": [
  {
   "cell_type": "markdown",
   "metadata": {},
   "source": [
    "# [nb-mermaid](https://bollwyvl.github.io/nb-mermaid)\n",
    "> Make [mermaid](https://github.com/knsv/mermaid) diagrams in your\n",
    "[Jupyter](http://jupyter.org) Notebook Markdown\n",
    "\n",
    "## install (easy)\n",
    "```shell\n",
    "pip install nb-mermaid\n",
    "```\n",
    "\n",
    "In the notebook...\n",
    "```javascript\n",
    "%reload_ext mermaid\n",
    "```\n",
    "\n",
    "\n",
    "## install (less easy)\n",
    "```shell\n",
    "git clone -b gh-pages https://github.com/bollwyvl/nb-mermaid.git \\\n",
    "    ~/.ipython/nbextensions/nb-mermaid\n",
    "```\n",
    "\n",
    "\n",
    "## activate\n",
    "In the notebook...\n",
    "```javascript\n",
    "%%javascript\n",
    "IPython.load_ipython_extensions([\"nb-mermaid/nb-mermaid\"]);\n",
    "```\n",
    "\n",
    "\n",
    "## roadmap\n",
    "- nbviewer support (bookmarklet works now!)\n",
    "- live editing (a la the [mermaid editor](http://knsv.github.io/mermaid/live_editor))\n",
    "- pan/zoom\n",
    "- search\n"
   ]
  }
 ],
 "metadata": {
  "kernelspec": {
   "display_name": "Python 3",
   "language": "python",
   "name": "python3"
  },
  "language_info": {
   "codemirror_mode": {
    "name": "ipython",
    "version": 3
   },
   "file_extension": ".py",
   "mimetype": "text/x-python",
   "name": "python",
   "nbconvert_exporter": "python",
   "pygments_lexer": "ipython3",
   "version": "3.4.2"
  }
 },
 "nbformat": 4,
 "nbformat_minor": 0
}
